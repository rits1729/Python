{
  "nbformat": 4,
  "nbformat_minor": 0,
  "metadata": {
    "colab": {
      "provenance": [],
      "authorship_tag": "ABX9TyMSu87UoIYZSEY237h8cf7+",
      "include_colab_link": true
    },
    "kernelspec": {
      "name": "python3",
      "display_name": "Python 3"
    },
    "language_info": {
      "name": "python"
    }
  },
  "cells": [
    {
      "cell_type": "markdown",
      "metadata": {
        "id": "view-in-github",
        "colab_type": "text"
      },
      "source": [
        "<a href=\"https://colab.research.google.com/github/rits1729/Python/blob/main/Assignment%201.ipynb\" target=\"_parent\"><img src=\"https://colab.research.google.com/assets/colab-badge.svg\" alt=\"Open In Colab\"/></a>"
      ]
    },
    {
      "cell_type": "code",
      "execution_count": 1,
      "metadata": {
        "id": "hhBRVAPUkNzH"
      },
      "outputs": [],
      "source": [
        "str = \"Ritesh Kumar Singh\""
      ]
    },
    {
      "cell_type": "code",
      "source": [
        "type (str)"
      ],
      "metadata": {
        "colab": {
          "base_uri": "https://localhost:8080/"
        },
        "id": "FTOKy9FdkV7c",
        "outputId": "a67e2c60-a384-45e1-9a81-bd85eaabff37"
      },
      "execution_count": 2,
      "outputs": [
        {
          "output_type": "execute_result",
          "data": {
            "text/plain": [
              "str"
            ]
          },
          "metadata": {},
          "execution_count": 2
        }
      ]
    },
    {
      "cell_type": "code",
      "source": [
        "l = [1,2,3,4,5,6,\"string\",\"int\"]"
      ],
      "metadata": {
        "id": "Vop6AtqPkXia"
      },
      "execution_count": 3,
      "outputs": []
    },
    {
      "cell_type": "code",
      "source": [
        "type(l)"
      ],
      "metadata": {
        "colab": {
          "base_uri": "https://localhost:8080/"
        },
        "id": "24XTq799keIT",
        "outputId": "0510a794-e272-4e29-fbfc-df8b2c889768"
      },
      "execution_count": 4,
      "outputs": [
        {
          "output_type": "execute_result",
          "data": {
            "text/plain": [
              "list"
            ]
          },
          "metadata": {},
          "execution_count": 4
        }
      ]
    },
    {
      "cell_type": "code",
      "source": [
        "t=(1,2,4,6,7)"
      ],
      "metadata": {
        "id": "tv7H9LFhkfT_"
      },
      "execution_count": 5,
      "outputs": []
    },
    {
      "cell_type": "code",
      "source": [
        "type(t)"
      ],
      "metadata": {
        "colab": {
          "base_uri": "https://localhost:8080/"
        },
        "id": "eb92mn-Hkiyi",
        "outputId": "547b9dea-8157-4b93-d7e6-dcb92b4dc075"
      },
      "execution_count": 6,
      "outputs": [
        {
          "output_type": "execute_result",
          "data": {
            "text/plain": [
              "tuple"
            ]
          },
          "metadata": {},
          "execution_count": 6
        }
      ]
    },
    {
      "cell_type": "code",
      "source": [
        "x=3.143567"
      ],
      "metadata": {
        "id": "hr3HDT2Hkj_L"
      },
      "execution_count": 7,
      "outputs": []
    },
    {
      "cell_type": "code",
      "source": [
        "type(x)"
      ],
      "metadata": {
        "colab": {
          "base_uri": "https://localhost:8080/"
        },
        "id": "ZQBg9im3knpd",
        "outputId": "af3113e3-444f-41a4-9f8a-cedfbb4c63e6"
      },
      "execution_count": 8,
      "outputs": [
        {
          "output_type": "execute_result",
          "data": {
            "text/plain": [
              "float"
            ]
          },
          "metadata": {},
          "execution_count": 8
        }
      ]
    },
    {
      "cell_type": "code",
      "source": [
        "#var1 = ‘ ‘ ----> string\n",
        "# var2 = ‘[ DS , ML , Python]’    -----> list\n",
        "# var3 = [ ‘DS’ , ’ML’ , ‘Python’ ] ------> list\n",
        "#var4 = 1. -----> float"
      ],
      "metadata": {
        "id": "iejApbvrkoq8"
      },
      "execution_count": 9,
      "outputs": []
    },
    {
      "cell_type": "code",
      "source": [
        "# / ---> This is division operator which divides the numberator and denominator and provides the result in float format . for example 2/5=0.4\n",
        "# % ---> This is modolous operator which gives remainder as result by dividing two numbers . for example 5%2 = 1\n",
        "# // ----> This is double divide symbol which gives quotient as result by dividing two numbers . for example 10//4 = 2\n",
        "# ** ---> This operatoe is used to give the power of two number . for example 2**3 = 8"
      ],
      "metadata": {
        "id": "3OTZzBcak-gi"
      },
      "execution_count": 13,
      "outputs": []
    },
    {
      "cell_type": "code",
      "source": [
        "#Create a list of length 10 of your choice containing multiple types of data. Using for loop print the element and its data type.\n",
        "\n",
        "list2 = [1,2,3,4,\"sum\",\"diff\",\"mul\",\"pow\",0.9,4.6]\n",
        "i=0\n",
        "while i<len(list2) :\n",
        "  print(\"type and data is \", type(list2[i]),list2[i])\n",
        "  i+=1\n",
        "\n"
      ],
      "metadata": {
        "colab": {
          "base_uri": "https://localhost:8080/"
        },
        "id": "9gwCwxrblAYH",
        "outputId": "6c1a6d37-f715-43de-92fe-fb4608755af0"
      },
      "execution_count": 22,
      "outputs": [
        {
          "output_type": "stream",
          "name": "stdout",
          "text": [
            "type and data is  <class 'int'> 1\n",
            "type and data is  <class 'int'> 2\n",
            "type and data is  <class 'int'> 3\n",
            "type and data is  <class 'int'> 4\n",
            "type and data is  <class 'str'> sum\n",
            "type and data is  <class 'str'> diff\n",
            "type and data is  <class 'str'> mul\n",
            "type and data is  <class 'str'> pow\n",
            "type and data is  <class 'float'> 0.9\n",
            "type and data is  <class 'float'> 4.6\n"
          ]
        }
      ]
    },
    {
      "cell_type": "code",
      "source": [
        "#Using a while loop, verify if the number A is purely divisible by number B and if so then how many times it can be divisible.\n",
        "a=52\n",
        "b=3\n",
        "i=0\n",
        "while(b!=1 and b!=0):\n",
        "  a=a//b\n",
        "  b=a%b\n",
        "  i+=1\n",
        "print(i)\n"
      ],
      "metadata": {
        "colab": {
          "base_uri": "https://localhost:8080/"
        },
        "id": "Bmfc1i8ElBk_",
        "outputId": "e10072ab-cce4-4ff8-805a-6a93a479f078"
      },
      "execution_count": 24,
      "outputs": [
        {
          "output_type": "stream",
          "name": "stdout",
          "text": [
            "2\n"
          ]
        }
      ]
    },
    {
      "cell_type": "code",
      "source": [
        "#Create a list containing 25 int type data. Using for loop and if-else condition print if the element is divisible by 3 or not.\n",
        "\n",
        "list3=[1,2,3,4,5,6,7,8,9,10,11,12,13,14,15,16,17,18,19,20,21,22,23,24,25]\n",
        "for i in range(0,len(list3)):\n",
        "  if list3[i]%3==0:\n",
        "    print(list3[i],\"is divisible by 3\")\n",
        "  else:\n",
        "    print(list3[i],\"is not divisible by 3\")"
      ],
      "metadata": {
        "colab": {
          "base_uri": "https://localhost:8080/"
        },
        "id": "4tWCF_cgoKqw",
        "outputId": "27835477-6503-47e2-c2a9-d7196381cdec"
      },
      "execution_count": 25,
      "outputs": [
        {
          "output_type": "stream",
          "name": "stdout",
          "text": [
            "1 is not divisible by 3\n",
            "2 is not divisible by 3\n",
            "3 is divisible by 3\n",
            "4 is not divisible by 3\n",
            "5 is not divisible by 3\n",
            "6 is divisible by 3\n",
            "7 is not divisible by 3\n",
            "8 is not divisible by 3\n",
            "9 is divisible by 3\n",
            "10 is not divisible by 3\n",
            "11 is not divisible by 3\n",
            "12 is divisible by 3\n",
            "13 is not divisible by 3\n",
            "14 is not divisible by 3\n",
            "15 is divisible by 3\n",
            "16 is not divisible by 3\n",
            "17 is not divisible by 3\n",
            "18 is divisible by 3\n",
            "19 is not divisible by 3\n",
            "20 is not divisible by 3\n",
            "21 is divisible by 3\n",
            "22 is not divisible by 3\n",
            "23 is not divisible by 3\n",
            "24 is divisible by 3\n",
            "25 is not divisible by 3\n"
          ]
        }
      ]
    },
    {
      "cell_type": "code",
      "source": [
        "#What do you understand about mutable and immutable data types? Give examples for both showing\n",
        "\n",
        "#Mutable data types : Mutable datatypes are those data types which are defined or declared only once through out the execution cycle. We can access data present at the indexes but we can change the data which is present at each index. for example string data type : str=\"Strght\"---> we can access each character of str but we cannot change any character.\n",
        "\n",
        "# Immutable data type: Immutable data types are those data types which are defined or declared once but can be changed at any point of time during the execution of the program . for example list data type. we can access the data using indexes and can also change that as well."
      ],
      "metadata": {
        "id": "qtX9WUDupLM_"
      },
      "execution_count": null,
      "outputs": []
    }
  ]
}